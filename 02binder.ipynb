{
  "cells": [
    {
      "cell_type": "markdown",
      "metadata": {
        "id": "view-in-github",
        "colab_type": "text"
      },
      "source": [
        "<a href=\"https://colab.research.google.com/github/shimizukeita/fastai_course/blob/main/02binder.ipynb\" target=\"_parent\"><img src=\"https://colab.research.google.com/assets/colab-badge.svg\" alt=\"Open In Colab\"/></a>"
      ]
    },
    {
      "cell_type": "code",
      "execution_count": 1,
      "metadata": {
        "colab": {
          "base_uri": "https://localhost:8080/"
        },
        "id": "m2fSWVqB918m",
        "outputId": "51e68169-8dd4-4a73-b9aa-158e7bcaec42"
      },
      "outputs": [
        {
          "output_type": "stream",
          "name": "stdout",
          "text": [
            "\u001b[?25l   \u001b[90m━━━━━━━━━━━━━━━━━━━━━━━━━━━━━━━━━━━━━━━━\u001b[0m \u001b[32m0.0/719.8 kB\u001b[0m \u001b[31m?\u001b[0m eta \u001b[36m-:--:--\u001b[0m\r\u001b[2K   \u001b[91m━━━━━━━━━━━━━━━━━━━━\u001b[0m\u001b[90m╺\u001b[0m\u001b[90m━━━━━━━━━━━━━━━━━━━\u001b[0m \u001b[32m368.6/719.8 kB\u001b[0m \u001b[31m12.7 MB/s\u001b[0m eta \u001b[36m0:00:01\u001b[0m\r\u001b[2K   \u001b[90m━━━━━━━━━━━━━━━━━━━━━━━━━━━━━━━━━━━━━━━━\u001b[0m \u001b[32m719.8/719.8 kB\u001b[0m \u001b[31m10.6 MB/s\u001b[0m eta \u001b[36m0:00:00\u001b[0m\n",
            "\u001b[?25h\u001b[?25l   \u001b[90m━━━━━━━━━━━━━━━━━━━━━━━━━━━━━━━━━━━━━━━━\u001b[0m \u001b[32m0.0/480.6 kB\u001b[0m \u001b[31m?\u001b[0m eta \u001b[36m-:--:--\u001b[0m\r\u001b[2K   \u001b[90m━━━━━━━━━━━━━━━━━━━━━━━━━━━━━━━━━━━━━━━━\u001b[0m \u001b[32m480.6/480.6 kB\u001b[0m \u001b[31m13.4 MB/s\u001b[0m eta \u001b[36m0:00:00\u001b[0m\n",
            "\u001b[2K   \u001b[90m━━━━━━━━━━━━━━━━━━━━━━━━━━━━━━━━━━━━━━━━\u001b[0m \u001b[32m116.3/116.3 kB\u001b[0m \u001b[31m3.4 MB/s\u001b[0m eta \u001b[36m0:00:00\u001b[0m\n",
            "\u001b[2K   \u001b[90m━━━━━━━━━━━━━━━━━━━━━━━━━━━━━━━━━━━━━━━━\u001b[0m \u001b[32m179.3/179.3 kB\u001b[0m \u001b[31m3.9 MB/s\u001b[0m eta \u001b[36m0:00:00\u001b[0m\n",
            "\u001b[2K   \u001b[90m━━━━━━━━━━━━━━━━━━━━━━━━━━━━━━━━━━━━━━━━\u001b[0m \u001b[32m134.8/134.8 kB\u001b[0m \u001b[31m5.5 MB/s\u001b[0m eta \u001b[36m0:00:00\u001b[0m\n",
            "\u001b[2K   \u001b[90m━━━━━━━━━━━━━━━━━━━━━━━━━━━━━━━━━━━━━━━━\u001b[0m \u001b[32m194.1/194.1 kB\u001b[0m \u001b[31m7.9 MB/s\u001b[0m eta \u001b[36m0:00:00\u001b[0m\n",
            "\u001b[2K   \u001b[90m━━━━━━━━━━━━━━━━━━━━━━━━━━━━━━━━━━━━━━━━\u001b[0m \u001b[32m1.6/1.6 MB\u001b[0m \u001b[31m16.5 MB/s\u001b[0m eta \u001b[36m0:00:00\u001b[0m\n",
            "\u001b[?25h\u001b[31mERROR: pip's dependency resolver does not currently take into account all the packages that are installed. This behaviour is the source of the following dependency conflicts.\n",
            "gcsfs 2024.10.0 requires fsspec==2024.10.0, but you have fsspec 2024.9.0 which is incompatible.\u001b[0m\u001b[31m\n",
            "\u001b[0m"
          ]
        }
      ],
      "source": [
        "#hide\n",
        "! [ -e /content ] && pip install -Uqq fastbook\n",
        "#[ -e /content ]:contentというパスがあるかを判断する条件文。google colab環境にはcontentというパスがデフォルトであるため、google colab環境の場合に実行されるコマンド\n",
        "#-U:パッケージをアップデート\n",
        "#qq:ログの出力をError,Criticalレベルに限定"
      ]
    },
    {
      "cell_type": "code",
      "execution_count": 2,
      "metadata": {
        "colab": {
          "base_uri": "https://localhost:8080/"
        },
        "id": "dRc-S-VM_nAJ",
        "outputId": "849a8c25-d464-4a76-a2d3-9a72172280cd"
      },
      "outputs": [
        {
          "output_type": "stream",
          "name": "stdout",
          "text": [
            "Mounted at /content/gdrive\n"
          ]
        }
      ],
      "source": [
        "#hide\n",
        "import fastbook\n",
        "fastbook.setup_book()"
      ]
    },
    {
      "cell_type": "code",
      "execution_count": 3,
      "metadata": {
        "id": "yZyrMb5u_8rg"
      },
      "outputs": [],
      "source": [
        "#hide\n",
        "from fastbook import *\n",
        "from fastai.vision.widgets import *"
      ]
    },
    {
      "cell_type": "markdown",
      "metadata": {
        "id": "rhCn1yE5REA3"
      },
      "source": [
        "# モデルをアプリ化する"
      ]
    },
    {
      "cell_type": "code",
      "execution_count": 5,
      "metadata": {
        "id": "uZjPHyH3QTrB"
      },
      "outputs": [],
      "source": [
        "#モデルファイルをインポートする\n",
        "path = Path()\n",
        "learn_inf = load_learner(path/'export.pkl')"
      ]
    },
    {
      "cell_type": "code",
      "execution_count": 6,
      "metadata": {
        "colab": {
          "base_uri": "https://localhost:8080/",
          "height": 49,
          "referenced_widgets": [
            "d639ffdc8b84439da6553bb16452ef1c",
            "3a08c2773bfe4b69a09bf53bbc32da80",
            "61643b2bed234a4fa721ec47b0814b83"
          ]
        },
        "id": "amt2UQZuRI2B",
        "outputId": "1434a0c1-bdd3-445a-a48f-99e3b2157672"
      },
      "outputs": [
        {
          "output_type": "display_data",
          "data": {
            "text/plain": [
              "FileUpload(value={}, description='Upload')"
            ],
            "application/vnd.jupyter.widget-view+json": {
              "version_major": 2,
              "version_minor": 0,
              "model_id": "d639ffdc8b84439da6553bb16452ef1c"
            }
          },
          "metadata": {}
        }
      ],
      "source": [
        "#hide_output\n",
        "#画像アップロードボタン\n",
        "btn_upload = widgets.FileUpload()\n",
        "btn_upload"
      ]
    },
    {
      "cell_type": "code",
      "execution_count": 7,
      "metadata": {
        "colab": {
          "base_uri": "https://localhost:8080/",
          "height": 102,
          "referenced_widgets": [
            "0b0c27c70586470383db4fad99b5d9db",
            "ffb2b46600bd4c4aa551ee12dcf8078b"
          ]
        },
        "id": "VlIPynr-SJ3g",
        "outputId": "2a373fc4-8fec-47e1-e500-f99997794935"
      },
      "outputs": [
        {
          "output_type": "display_data",
          "data": {
            "text/plain": [
              "Output()"
            ],
            "application/vnd.jupyter.widget-view+json": {
              "version_major": 2,
              "version_minor": 0,
              "model_id": "0b0c27c70586470383db4fad99b5d9db"
            }
          },
          "metadata": {}
        }
      ],
      "source": [
        "#hide_output\n",
        "#画像表示\n",
        "img = PILImage.create(btn_upload.data[-1])\n",
        "out_pl = widgets.Output()\n",
        "out_pl.clear_output() #?\n",
        "with out_pl:display(img.to_thumb(128,128))\n",
        "out_pl"
      ]
    },
    {
      "cell_type": "code",
      "execution_count": 8,
      "metadata": {
        "id": "5t22f-RQbFSi"
      },
      "outputs": [],
      "source": [
        "lbl_pred = widgets.Label()"
      ]
    },
    {
      "cell_type": "code",
      "execution_count": 16,
      "metadata": {
        "colab": {
          "base_uri": "https://localhost:8080/",
          "height": 49,
          "referenced_widgets": [
            "f3b8c046da494670a57bf29265c06216",
            "63fe63e6a71b460980abcafd9436b472",
            "84d9b1ef3fd6450f9879bd29bc379459"
          ]
        },
        "id": "t1CaCSMSZx0N",
        "outputId": "819ba38f-2b7a-4e18-a48c-1567f4e238ee"
      },
      "outputs": [
        {
          "output_type": "display_data",
          "data": {
            "text/plain": [
              "Button(description='Classify', style=ButtonStyle())"
            ],
            "application/vnd.jupyter.widget-view+json": {
              "version_major": 2,
              "version_minor": 0,
              "model_id": "f3b8c046da494670a57bf29265c06216"
            }
          },
          "metadata": {}
        }
      ],
      "source": [
        "#hide_output\n",
        "btn_run = widgets.Button(description='Classify')"
      ]
    },
    {
      "cell_type": "code",
      "execution_count": 14,
      "metadata": {
        "id": "CFkkJNQbaCp7"
      },
      "outputs": [],
      "source": [
        "def on_click_classify(change):\n",
        "  img = PILImage.create(btn_upload.data[-1])\n",
        "  out_pl.clear_output()\n",
        "  with out_pl:display(img.to_thumb(128,128))\n",
        "  pred,pred_idx,probs = learn_inf.predict(img)\n",
        "  lbl_pred.value = f'Prediction:{pred}; Probability:{probs[pred_idx]:.04f}'\n",
        "\n",
        "btn_run.on_click(on_click_classify)"
      ]
    },
    {
      "cell_type": "code",
      "execution_count": 17,
      "metadata": {
        "colab": {
          "base_uri": "https://localhost:8080/",
          "height": 230,
          "referenced_widgets": [
            "be2310523ae54d6eb6c0e2842a5d7d5f",
            "c993308a38dd44328f01144fad3ed791",
            "d639ffdc8b84439da6553bb16452ef1c",
            "f3b8c046da494670a57bf29265c06216",
            "0b0c27c70586470383db4fad99b5d9db",
            "5bf8c5a0f449457f9c1d75fabf11d3e5",
            "a228ed2b1b8b460389ad3057e2d32b72",
            "f55402714583421480935ca09fb1ebfd",
            "02c85a97b4b64fbfb8e972a315095169",
            "3a08c2773bfe4b69a09bf53bbc32da80",
            "61643b2bed234a4fa721ec47b0814b83",
            "63fe63e6a71b460980abcafd9436b472",
            "84d9b1ef3fd6450f9879bd29bc379459",
            "52b898c853d34d4d83bfee827eec92de",
            "c3b823ead7f145cc840b383917b00923",
            "ffb2b46600bd4c4aa551ee12dcf8078b"
          ]
        },
        "id": "KuDGT8dQbZZm",
        "outputId": "ae8a3765-a600-48df-f38c-f6391198dbef"
      },
      "outputs": [
        {
          "output_type": "display_data",
          "data": {
            "text/plain": [
              "VBox(children=(Label(value='Select your dog!'), FileUpload(value={'20240829_dekopin_reu.jpg': {'metadata': {'n…"
            ],
            "application/vnd.jupyter.widget-view+json": {
              "version_major": 2,
              "version_minor": 0,
              "model_id": "be2310523ae54d6eb6c0e2842a5d7d5f"
            }
          },
          "metadata": {}
        }
      ],
      "source": [
        "#hide_output\n",
        "VBox([widgets.Label('Select your dog!'),btn_upload, btn_run, out_pl, lbl_pred])"
      ]
    },
    {
      "cell_type": "code",
      "execution_count": null,
      "metadata": {
        "colab": {
          "base_uri": "https://localhost:8080/"
        },
        "id": "ojVzxEKncPBe",
        "outputId": "3bf9817a-3562-4d68-a77c-a02bc870251d"
      },
      "outputs": [
        {
          "name": "stdout",
          "output_type": "stream",
          "text": [
            "\u001b[?25l   \u001b[90m━━━━━━━━━━━━━━━━━━━━━━━━━━━━━━━━━━━━━━━━\u001b[0m \u001b[32m0.0/4.5 MB\u001b[0m \u001b[31m?\u001b[0m eta \u001b[36m-:--:--\u001b[0m\r\u001b[2K   \u001b[91m━━━━━━━━━━━━━━━━━━━━━━━━━━━━━━━━━━━━━━━\u001b[0m\u001b[91m╸\u001b[0m \u001b[32m4.5/4.5 MB\u001b[0m \u001b[31m143.1 MB/s\u001b[0m eta \u001b[36m0:00:01\u001b[0m\r\u001b[2K   \u001b[90m━━━━━━━━━━━━━━━━━━━━━━━━━━━━━━━━━━━━━━━━\u001b[0m \u001b[32m4.5/4.5 MB\u001b[0m \u001b[31m84.6 MB/s\u001b[0m eta \u001b[36m0:00:00\u001b[0m\n",
            "\u001b[?25h\u001b[?25l   \u001b[90m━━━━━━━━━━━━━━━━━━━━━━━━━━━━━━━━━━━━━━━━\u001b[0m \u001b[32m0.0/106.1 kB\u001b[0m \u001b[31m?\u001b[0m eta \u001b[36m-:--:--\u001b[0m\r\u001b[2K   \u001b[90m━━━━━━━━━━━━━━━━━━━━━━━━━━━━━━━━━━━━━━━━\u001b[0m \u001b[32m106.1/106.1 kB\u001b[0m \u001b[31m10.7 MB/s\u001b[0m eta \u001b[36m0:00:00\u001b[0m\n",
            "\u001b[?25h\u001b[?25l   \u001b[90m━━━━━━━━━━━━━━━━━━━━━━━━━━━━━━━━━━━━━━━━\u001b[0m \u001b[32m0.0/59.7 kB\u001b[0m \u001b[31m?\u001b[0m eta \u001b[36m-:--:--\u001b[0m\r\u001b[2K   \u001b[90m━━━━━━━━━━━━━━━━━━━━━━━━━━━━━━━━━━━━━━━━\u001b[0m \u001b[32m59.7/59.7 kB\u001b[0m \u001b[31m6.0 MB/s\u001b[0m eta \u001b[36m0:00:00\u001b[0m\n",
            "\u001b[?25h\u001b[?25l   \u001b[90m━━━━━━━━━━━━━━━━━━━━━━━━━━━━━━━━━━━━━━━━\u001b[0m \u001b[32m0.0/164.1 kB\u001b[0m \u001b[31m?\u001b[0m eta \u001b[36m-:--:--\u001b[0m\r\u001b[2K   \u001b[90m━━━━━━━━━━━━━━━━━━━━━━━━━━━━━━━━━━━━━━━━\u001b[0m \u001b[32m164.1/164.1 kB\u001b[0m \u001b[31m18.7 MB/s\u001b[0m eta \u001b[36m0:00:00\u001b[0m\n",
            "\u001b[?25h\u001b[31mERROR: pip's dependency resolver does not currently take into account all the packages that are installed. This behaviour is the source of the following dependency conflicts.\n",
            "notebook 6.5.5 requires jupyter-client<8,>=5.3.4, but you have jupyter-client 8.6.3 which is incompatible.\u001b[0m\u001b[31m\n",
            "\u001b[0mEnabling: voila\n",
            "- Writing config: /usr/etc/jupyter\n",
            "    - Validating...\n",
            "      voila 0.5.8 \u001b[32mOK\u001b[0m\n"
          ]
        }
      ],
      "source": [
        "!pip install -Uqq voila\n",
        "!jupyter serverextension enable --sys-prefix voila"
      ]
    }
  ],
  "metadata": {
    "colab": {
      "provenance": [],
      "include_colab_link": true
    },
    "kernelspec": {
      "display_name": "Python 3",
      "name": "python3"
    },
    "language_info": {
      "codemirror_mode": {
        "name": "ipython",
        "version": 3
      },
      "file_extension": ".py",
      "mimetype": "text/x-python",
      "name": "python",
      "nbconvert_exporter": "python",
      "pygments_lexer": "ipython3",
      "version": "3.10.0"
    },
    "widgets": {
      "application/vnd.jupyter.widget-state+json": {
        "d639ffdc8b84439da6553bb16452ef1c": {
          "model_module": "@jupyter-widgets/controls",
          "model_name": "FileUploadModel",
          "model_module_version": "1.5.0",
          "state": {
            "_counter": 1,
            "_dom_classes": [],
            "_model_module": "@jupyter-widgets/controls",
            "_model_module_version": "1.5.0",
            "_model_name": "FileUploadModel",
            "_view_count": null,
            "_view_module": "@jupyter-widgets/controls",
            "_view_module_version": "1.5.0",
            "_view_name": "FileUploadView",
            "accept": "",
            "button_style": "",
            "data": [
              null
            ],
            "description": "Upload",
            "description_tooltip": null,
            "disabled": false,
            "error": "",
            "icon": "upload",
            "layout": "IPY_MODEL_3a08c2773bfe4b69a09bf53bbc32da80",
            "metadata": [
              {
                "name": "20240829_dekopin_reu.jpg",
                "type": "image/jpeg",
                "size": 35456,
                "lastModified": 1730239008456
              }
            ],
            "multiple": false,
            "style": "IPY_MODEL_61643b2bed234a4fa721ec47b0814b83"
          }
        },
        "3a08c2773bfe4b69a09bf53bbc32da80": {
          "model_module": "@jupyter-widgets/base",
          "model_name": "LayoutModel",
          "model_module_version": "1.2.0",
          "state": {
            "_model_module": "@jupyter-widgets/base",
            "_model_module_version": "1.2.0",
            "_model_name": "LayoutModel",
            "_view_count": null,
            "_view_module": "@jupyter-widgets/base",
            "_view_module_version": "1.2.0",
            "_view_name": "LayoutView",
            "align_content": null,
            "align_items": null,
            "align_self": null,
            "border": null,
            "bottom": null,
            "display": null,
            "flex": null,
            "flex_flow": null,
            "grid_area": null,
            "grid_auto_columns": null,
            "grid_auto_flow": null,
            "grid_auto_rows": null,
            "grid_column": null,
            "grid_gap": null,
            "grid_row": null,
            "grid_template_areas": null,
            "grid_template_columns": null,
            "grid_template_rows": null,
            "height": null,
            "justify_content": null,
            "justify_items": null,
            "left": null,
            "margin": null,
            "max_height": null,
            "max_width": null,
            "min_height": null,
            "min_width": null,
            "object_fit": null,
            "object_position": null,
            "order": null,
            "overflow": null,
            "overflow_x": null,
            "overflow_y": null,
            "padding": null,
            "right": null,
            "top": null,
            "visibility": null,
            "width": null
          }
        },
        "61643b2bed234a4fa721ec47b0814b83": {
          "model_module": "@jupyter-widgets/controls",
          "model_name": "ButtonStyleModel",
          "model_module_version": "1.5.0",
          "state": {
            "_model_module": "@jupyter-widgets/controls",
            "_model_module_version": "1.5.0",
            "_model_name": "ButtonStyleModel",
            "_view_count": null,
            "_view_module": "@jupyter-widgets/base",
            "_view_module_version": "1.2.0",
            "_view_name": "StyleView",
            "button_color": null,
            "font_weight": ""
          }
        },
        "0b0c27c70586470383db4fad99b5d9db": {
          "model_module": "@jupyter-widgets/output",
          "model_name": "OutputModel",
          "model_module_version": "1.0.0",
          "state": {
            "_dom_classes": [],
            "_model_module": "@jupyter-widgets/output",
            "_model_module_version": "1.0.0",
            "_model_name": "OutputModel",
            "_view_count": null,
            "_view_module": "@jupyter-widgets/output",
            "_view_module_version": "1.0.0",
            "_view_name": "OutputView",
            "layout": "IPY_MODEL_ffb2b46600bd4c4aa551ee12dcf8078b",
            "msg_id": "",
            "outputs": [
              {
                "output_type": "display_data",
                "data": {
                  "text/plain": "<PIL.Image.Image image mode=RGB size=128x85>",
                  "image/png": "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\n",
                  "image/jpeg": "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\n"
                },
                "metadata": {}
              }
            ]
          }
        },
        "ffb2b46600bd4c4aa551ee12dcf8078b": {
          "model_module": "@jupyter-widgets/base",
          "model_name": "LayoutModel",
          "model_module_version": "1.2.0",
          "state": {
            "_model_module": "@jupyter-widgets/base",
            "_model_module_version": "1.2.0",
            "_model_name": "LayoutModel",
            "_view_count": null,
            "_view_module": "@jupyter-widgets/base",
            "_view_module_version": "1.2.0",
            "_view_name": "LayoutView",
            "align_content": null,
            "align_items": null,
            "align_self": null,
            "border": null,
            "bottom": null,
            "display": null,
            "flex": null,
            "flex_flow": null,
            "grid_area": null,
            "grid_auto_columns": null,
            "grid_auto_flow": null,
            "grid_auto_rows": null,
            "grid_column": null,
            "grid_gap": null,
            "grid_row": null,
            "grid_template_areas": null,
            "grid_template_columns": null,
            "grid_template_rows": null,
            "height": null,
            "justify_content": null,
            "justify_items": null,
            "left": null,
            "margin": null,
            "max_height": null,
            "max_width": null,
            "min_height": null,
            "min_width": null,
            "object_fit": null,
            "object_position": null,
            "order": null,
            "overflow": null,
            "overflow_x": null,
            "overflow_y": null,
            "padding": null,
            "right": null,
            "top": null,
            "visibility": null,
            "width": null
          }
        },
        "f3b8c046da494670a57bf29265c06216": {
          "model_module": "@jupyter-widgets/controls",
          "model_name": "ButtonModel",
          "model_module_version": "1.5.0",
          "state": {
            "_dom_classes": [],
            "_model_module": "@jupyter-widgets/controls",
            "_model_module_version": "1.5.0",
            "_model_name": "ButtonModel",
            "_view_count": null,
            "_view_module": "@jupyter-widgets/controls",
            "_view_module_version": "1.5.0",
            "_view_name": "ButtonView",
            "button_style": "",
            "description": "Classify",
            "disabled": false,
            "icon": "",
            "layout": "IPY_MODEL_63fe63e6a71b460980abcafd9436b472",
            "style": "IPY_MODEL_84d9b1ef3fd6450f9879bd29bc379459",
            "tooltip": ""
          }
        },
        "63fe63e6a71b460980abcafd9436b472": {
          "model_module": "@jupyter-widgets/base",
          "model_name": "LayoutModel",
          "model_module_version": "1.2.0",
          "state": {
            "_model_module": "@jupyter-widgets/base",
            "_model_module_version": "1.2.0",
            "_model_name": "LayoutModel",
            "_view_count": null,
            "_view_module": "@jupyter-widgets/base",
            "_view_module_version": "1.2.0",
            "_view_name": "LayoutView",
            "align_content": null,
            "align_items": null,
            "align_self": null,
            "border": null,
            "bottom": null,
            "display": null,
            "flex": null,
            "flex_flow": null,
            "grid_area": null,
            "grid_auto_columns": null,
            "grid_auto_flow": null,
            "grid_auto_rows": null,
            "grid_column": null,
            "grid_gap": null,
            "grid_row": null,
            "grid_template_areas": null,
            "grid_template_columns": null,
            "grid_template_rows": null,
            "height": null,
            "justify_content": null,
            "justify_items": null,
            "left": null,
            "margin": null,
            "max_height": null,
            "max_width": null,
            "min_height": null,
            "min_width": null,
            "object_fit": null,
            "object_position": null,
            "order": null,
            "overflow": null,
            "overflow_x": null,
            "overflow_y": null,
            "padding": null,
            "right": null,
            "top": null,
            "visibility": null,
            "width": null
          }
        },
        "84d9b1ef3fd6450f9879bd29bc379459": {
          "model_module": "@jupyter-widgets/controls",
          "model_name": "ButtonStyleModel",
          "model_module_version": "1.5.0",
          "state": {
            "_model_module": "@jupyter-widgets/controls",
            "_model_module_version": "1.5.0",
            "_model_name": "ButtonStyleModel",
            "_view_count": null,
            "_view_module": "@jupyter-widgets/base",
            "_view_module_version": "1.2.0",
            "_view_name": "StyleView",
            "button_color": null,
            "font_weight": ""
          }
        },
        "be2310523ae54d6eb6c0e2842a5d7d5f": {
          "model_module": "@jupyter-widgets/controls",
          "model_name": "VBoxModel",
          "model_module_version": "1.5.0",
          "state": {
            "_dom_classes": [],
            "_model_module": "@jupyter-widgets/controls",
            "_model_module_version": "1.5.0",
            "_model_name": "VBoxModel",
            "_view_count": null,
            "_view_module": "@jupyter-widgets/controls",
            "_view_module_version": "1.5.0",
            "_view_name": "VBoxView",
            "box_style": "",
            "children": [
              "IPY_MODEL_c993308a38dd44328f01144fad3ed791",
              "IPY_MODEL_d639ffdc8b84439da6553bb16452ef1c",
              "IPY_MODEL_f3b8c046da494670a57bf29265c06216",
              "IPY_MODEL_0b0c27c70586470383db4fad99b5d9db",
              "IPY_MODEL_5bf8c5a0f449457f9c1d75fabf11d3e5"
            ],
            "layout": "IPY_MODEL_a228ed2b1b8b460389ad3057e2d32b72"
          }
        },
        "c993308a38dd44328f01144fad3ed791": {
          "model_module": "@jupyter-widgets/controls",
          "model_name": "LabelModel",
          "model_module_version": "1.5.0",
          "state": {
            "_dom_classes": [],
            "_model_module": "@jupyter-widgets/controls",
            "_model_module_version": "1.5.0",
            "_model_name": "LabelModel",
            "_view_count": null,
            "_view_module": "@jupyter-widgets/controls",
            "_view_module_version": "1.5.0",
            "_view_name": "LabelView",
            "description": "",
            "description_tooltip": null,
            "layout": "IPY_MODEL_f55402714583421480935ca09fb1ebfd",
            "placeholder": "​",
            "style": "IPY_MODEL_02c85a97b4b64fbfb8e972a315095169",
            "value": "Select your dog!"
          }
        },
        "5bf8c5a0f449457f9c1d75fabf11d3e5": {
          "model_module": "@jupyter-widgets/controls",
          "model_name": "LabelModel",
          "model_module_version": "1.5.0",
          "state": {
            "_dom_classes": [],
            "_model_module": "@jupyter-widgets/controls",
            "_model_module_version": "1.5.0",
            "_model_name": "LabelModel",
            "_view_count": null,
            "_view_module": "@jupyter-widgets/controls",
            "_view_module_version": "1.5.0",
            "_view_name": "LabelView",
            "description": "",
            "description_tooltip": null,
            "layout": "IPY_MODEL_52b898c853d34d4d83bfee827eec92de",
            "placeholder": "​",
            "style": "IPY_MODEL_c3b823ead7f145cc840b383917b00923",
            "value": "Prediction:Kooikerhondje; Probability:0.5144"
          }
        },
        "a228ed2b1b8b460389ad3057e2d32b72": {
          "model_module": "@jupyter-widgets/base",
          "model_name": "LayoutModel",
          "model_module_version": "1.2.0",
          "state": {
            "_model_module": "@jupyter-widgets/base",
            "_model_module_version": "1.2.0",
            "_model_name": "LayoutModel",
            "_view_count": null,
            "_view_module": "@jupyter-widgets/base",
            "_view_module_version": "1.2.0",
            "_view_name": "LayoutView",
            "align_content": null,
            "align_items": null,
            "align_self": null,
            "border": null,
            "bottom": null,
            "display": null,
            "flex": null,
            "flex_flow": null,
            "grid_area": null,
            "grid_auto_columns": null,
            "grid_auto_flow": null,
            "grid_auto_rows": null,
            "grid_column": null,
            "grid_gap": null,
            "grid_row": null,
            "grid_template_areas": null,
            "grid_template_columns": null,
            "grid_template_rows": null,
            "height": null,
            "justify_content": null,
            "justify_items": null,
            "left": null,
            "margin": null,
            "max_height": null,
            "max_width": null,
            "min_height": null,
            "min_width": null,
            "object_fit": null,
            "object_position": null,
            "order": null,
            "overflow": null,
            "overflow_x": null,
            "overflow_y": null,
            "padding": null,
            "right": null,
            "top": null,
            "visibility": null,
            "width": null
          }
        },
        "f55402714583421480935ca09fb1ebfd": {
          "model_module": "@jupyter-widgets/base",
          "model_name": "LayoutModel",
          "model_module_version": "1.2.0",
          "state": {
            "_model_module": "@jupyter-widgets/base",
            "_model_module_version": "1.2.0",
            "_model_name": "LayoutModel",
            "_view_count": null,
            "_view_module": "@jupyter-widgets/base",
            "_view_module_version": "1.2.0",
            "_view_name": "LayoutView",
            "align_content": null,
            "align_items": null,
            "align_self": null,
            "border": null,
            "bottom": null,
            "display": null,
            "flex": null,
            "flex_flow": null,
            "grid_area": null,
            "grid_auto_columns": null,
            "grid_auto_flow": null,
            "grid_auto_rows": null,
            "grid_column": null,
            "grid_gap": null,
            "grid_row": null,
            "grid_template_areas": null,
            "grid_template_columns": null,
            "grid_template_rows": null,
            "height": null,
            "justify_content": null,
            "justify_items": null,
            "left": null,
            "margin": null,
            "max_height": null,
            "max_width": null,
            "min_height": null,
            "min_width": null,
            "object_fit": null,
            "object_position": null,
            "order": null,
            "overflow": null,
            "overflow_x": null,
            "overflow_y": null,
            "padding": null,
            "right": null,
            "top": null,
            "visibility": null,
            "width": null
          }
        },
        "02c85a97b4b64fbfb8e972a315095169": {
          "model_module": "@jupyter-widgets/controls",
          "model_name": "DescriptionStyleModel",
          "model_module_version": "1.5.0",
          "state": {
            "_model_module": "@jupyter-widgets/controls",
            "_model_module_version": "1.5.0",
            "_model_name": "DescriptionStyleModel",
            "_view_count": null,
            "_view_module": "@jupyter-widgets/base",
            "_view_module_version": "1.2.0",
            "_view_name": "StyleView",
            "description_width": ""
          }
        },
        "52b898c853d34d4d83bfee827eec92de": {
          "model_module": "@jupyter-widgets/base",
          "model_name": "LayoutModel",
          "model_module_version": "1.2.0",
          "state": {
            "_model_module": "@jupyter-widgets/base",
            "_model_module_version": "1.2.0",
            "_model_name": "LayoutModel",
            "_view_count": null,
            "_view_module": "@jupyter-widgets/base",
            "_view_module_version": "1.2.0",
            "_view_name": "LayoutView",
            "align_content": null,
            "align_items": null,
            "align_self": null,
            "border": null,
            "bottom": null,
            "display": null,
            "flex": null,
            "flex_flow": null,
            "grid_area": null,
            "grid_auto_columns": null,
            "grid_auto_flow": null,
            "grid_auto_rows": null,
            "grid_column": null,
            "grid_gap": null,
            "grid_row": null,
            "grid_template_areas": null,
            "grid_template_columns": null,
            "grid_template_rows": null,
            "height": null,
            "justify_content": null,
            "justify_items": null,
            "left": null,
            "margin": null,
            "max_height": null,
            "max_width": null,
            "min_height": null,
            "min_width": null,
            "object_fit": null,
            "object_position": null,
            "order": null,
            "overflow": null,
            "overflow_x": null,
            "overflow_y": null,
            "padding": null,
            "right": null,
            "top": null,
            "visibility": null,
            "width": null
          }
        },
        "c3b823ead7f145cc840b383917b00923": {
          "model_module": "@jupyter-widgets/controls",
          "model_name": "DescriptionStyleModel",
          "model_module_version": "1.5.0",
          "state": {
            "_model_module": "@jupyter-widgets/controls",
            "_model_module_version": "1.5.0",
            "_model_name": "DescriptionStyleModel",
            "_view_count": null,
            "_view_module": "@jupyter-widgets/base",
            "_view_module_version": "1.2.0",
            "_view_name": "StyleView",
            "description_width": ""
          }
        }
      }
    }
  },
  "nbformat": 4,
  "nbformat_minor": 0
}